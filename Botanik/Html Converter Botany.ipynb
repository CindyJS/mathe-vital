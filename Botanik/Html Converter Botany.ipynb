{
 "cells": [
  {
   "cell_type": "code",
   "execution_count": 6,
   "metadata": {},
   "outputs": [],
   "source": [
    "import re\n",
    "import os\n",
    "from urllib.request import urlopen\n",
    "\n",
    "def convertHtml(filename):\n",
    "    body = 0\n",
    "    title = ''\n",
    "    content = ''\n",
    "    with open(filename, 'r') as file:\n",
    "        for f in file:\n",
    "            if body == 1:\n",
    "                if '<iframe ' in f:\n",
    "                    iframe = f\n",
    "                    p = re.compile('<iframe(.*?)</iframe>')\n",
    "                    iframe = p.search(iframe).group()\n",
    "\n",
    "                    url = iframe.split(\"\\\"\")[1]\n",
    "                    name = url.split(\"/\")[-1]\n",
    "\n",
    "                    html = urlopen(url).read().decode('utf-8')\n",
    "                    with open(name, 'w') as newfile:\n",
    "                        newfile.write(html)\n",
    "                        newfile.close()\n",
    "                    content = content + iframe.split(\"\\\"\")[0] + \"\\\"\" + name + \"\\\"\" + iframe.split(\"\\\"\")[2] + \"\\n\"\n",
    "                else:\n",
    "                    if not '</body' in f and not '</html' in f:\n",
    "                        content = content + f\n",
    "                    \n",
    "            if '<h1' in f:\n",
    "                body = 1\n",
    "                \n",
    "                title = f\n",
    "                p = re.compile('<h1>(.*?)</h1>')\n",
    "                title = p.search(title).group()[4:-5]\n",
    "                content = content + f\n",
    "                \n",
    "            \n",
    "                    \n",
    "\n",
    "    content = '---\\n' + 'title: ' + title + '\\n' + 'layout: page\\n' + 'category: Botanik\\n' + '---\\n' + content\n",
    "    #print(content)\n",
    "\n",
    "    with open(filename, 'w') as file:\n",
    "        file.write(content)"
   ]
  },
  {
   "cell_type": "code",
   "execution_count": 7,
   "metadata": {},
   "outputs": [],
   "source": [
    "import os\n",
    "for files in os.listdir():\n",
    "    if 'Botanik' in files:\n",
    "        convertHtml(files)"
   ]
  },
  {
   "cell_type": "code",
   "execution_count": 49,
   "metadata": {},
   "outputs": [],
   "source": [
    "filename = 'BotanikE5.html'\n",
    "def convBotany(filename):\n",
    "    from urllib.request import urlopen\n",
    "    \n",
    "    with open(filename, 'r') as file:\n",
    "        for f in file:\n",
    "            if '<iframe ' in f:\n",
    "                iframe = f\n",
    "                p = re.compile('<iframe(.*?)</iframe>')\n",
    "                title = p.search(iframe).group()\n",
    "\n",
    "                url = iframe.split(\"\\\"\")[1]\n",
    "                name = url.split(\"/\")[-1]\n",
    "\n",
    "                html = urlopen(url).read().decode('utf-8')\n",
    "                with open(name, 'w') as newfile:\n",
    "                    newfile.write(html)\n",
    "                    newfile.close()\n",
    "                    \n",
    "                \n",
    "                    \n",
    "convBotany(filename)"
   ]
  }
 ],
 "metadata": {
  "kernelspec": {
   "display_name": "Python 3",
   "language": "python",
   "name": "python3"
  },
  "language_info": {
   "codemirror_mode": {
    "name": "ipython",
    "version": 3
   },
   "file_extension": ".py",
   "mimetype": "text/x-python",
   "name": "python",
   "nbconvert_exporter": "python",
   "pygments_lexer": "ipython3",
   "version": "3.6.5"
  }
 },
 "nbformat": 4,
 "nbformat_minor": 2
}
