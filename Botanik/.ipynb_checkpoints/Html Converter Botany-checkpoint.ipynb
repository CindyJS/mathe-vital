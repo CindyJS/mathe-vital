{
 "cells": [
  {
   "cell_type": "code",
   "execution_count": 58,
   "metadata": {},
   "outputs": [],
   "source": [
    "import re\n",
    "import os\n",
    "\n",
    "def convertHtml(filename):\n",
    "    body = 0\n",
    "    title = ''\n",
    "    content = ''\n",
    "    with open(filename, 'r') as file:\n",
    "        for f in file:\n",
    "            if body == 1:\n",
    "                if '<iframe ' in f:\n",
    "                    iframe = f\n",
    "                    p = re.compile('<iframe(.*?)</iframe>')\n",
    "                    iframe = p.search(iframe).group()\n",
    "\n",
    "                    url = iframe.split(\"\\\"\")[1]\n",
    "                    name = url.split(\"/\")[-1]\n",
    "\n",
    "                    html = urlopen(url).read().decode('utf-8')\n",
    "                    with open(name, 'w') as newfile:\n",
    "                        newfile.write(html)\n",
    "                        newfile.close()\n",
    "                    content = content + iframe.split(\"\\\"\")[0] + \"\\\"\" + name + \"\\\"\" + iframe.split(\"\\\"\")[2] + \"\\n\"\n",
    "                else:\n",
    "                    if not '</body' in f and not '</html' in f:\n",
    "                        content = content + f\n",
    "                    \n",
    "            if '<h1' in f:\n",
    "                body = 1\n",
    "                \n",
    "                title = f\n",
    "                p = re.compile('<h1>(.*?)</h1>')\n",
    "                title = p.search(title).group()[4:-5]\n",
    "                content = content + f\n",
    "                \n",
    "            \n",
    "                    \n",
    "\n",
    "    content = '---\\n' + 'title: ' + title + '\\n' + 'layout: page\\n' + 'category: Botanik\\n' + '---\\n' + content\n",
    "    #print(content)\n",
    "\n",
    "    with open(filename, 'w') as file:\n",
    "        file.write(content)"
   ]
  },
  {
   "cell_type": "code",
   "execution_count": 3,
   "metadata": {},
   "outputs": [
    {
     "name": "stdout",
     "output_type": "stream",
     "text": [
      "BotanikA1.html\n",
      "BotanikE3.html\n",
      "BotanikC8.html\n",
      "BotanikC9.html\n",
      "BotanikF4.html\n",
      "BotanikC2.html\n",
      "BotanikE6.html\n",
      "BotanikC1.html\n",
      "BotanikE2.html\n",
      "BotanikB3.html\n",
      "BotanikF2.html\n",
      "BotanikB2.html\n",
      "BotanikD4.html\n",
      "BotanikC10.html\n",
      "BotanikD2.html\n",
      "BotanikE4.html\n",
      "BotanikE1.html\n",
      "BotanikF3.html\n",
      "BotanikE5.html\n",
      "BotanikC6.html\n",
      "BotanikCa.html\n",
      "BotanikC3.html\n",
      "BotanikB1.html\n",
      "BotanikC7.html\n",
      "BotanikF1.html\n",
      "BotanikD3.html\n",
      "BotanikA3.html\n",
      "BotanikC4.html\n",
      "BotanikD5.html\n",
      "BotanikA2.html\n",
      "BotanikD1.html\n",
      "BotanikC5.html\n"
     ]
    }
   ],
   "source": [
    "import os\n",
    "for files in os.listdir():\n",
    "    if 'Botanik' in files:\n",
    "        print(files)"
   ]
  },
  {
   "cell_type": "code",
   "execution_count": 49,
   "metadata": {},
   "outputs": [],
   "source": [
    "filename = 'BotanikE5.html'\n",
    "def convBotany(filename):\n",
    "    from urllib.request import urlopen\n",
    "    \n",
    "    with open(filename, 'r') as file:\n",
    "        for f in file:\n",
    "            if '<iframe ' in f:\n",
    "                iframe = f\n",
    "                p = re.compile('<iframe(.*?)</iframe>')\n",
    "                title = p.search(iframe).group()\n",
    "\n",
    "                url = iframe.split(\"\\\"\")[1]\n",
    "                name = url.split(\"/\")[-1]\n",
    "\n",
    "                html = urlopen(url).read().decode('utf-8')\n",
    "                with open(name, 'w') as newfile:\n",
    "                    newfile.write(html)\n",
    "                    newfile.close()\n",
    "                    \n",
    "                \n",
    "                    \n",
    "convBotany(filename)"
   ]
  }
 ],
 "metadata": {
  "kernelspec": {
   "display_name": "Python 3",
   "language": "python",
   "name": "python3"
  },
  "language_info": {
   "codemirror_mode": {
    "name": "ipython",
    "version": 3
   },
   "file_extension": ".py",
   "mimetype": "text/x-python",
   "name": "python",
   "nbconvert_exporter": "python",
   "pygments_lexer": "ipython3",
   "version": "3.6.5"
  }
 },
 "nbformat": 4,
 "nbformat_minor": 2
}
