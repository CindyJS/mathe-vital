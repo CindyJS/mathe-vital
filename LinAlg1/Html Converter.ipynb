{
 "cells": [
  {
   "cell_type": "code",
   "execution_count": 3,
   "metadata": {},
   "outputs": [],
   "source": [
    "import re\n",
    "import os\n",
    "\n",
    "def convertHtml(filename):\n",
    "    body = 0\n",
    "    title = ''\n",
    "    content = ''\n",
    "    with open(filename, 'r') as file:\n",
    "        for f in file:\n",
    "            if body == 1:\n",
    "                if not '</body' in f and not '</html' in f:\n",
    "                    content = content + f\n",
    "            if '<body' in f:\n",
    "                body = 1\n",
    "            if '<h1' in f:\n",
    "                title = f\n",
    "                p = re.compile('<h1>(.*?)</h1>')\n",
    "                title = p.search(title).group()[4:-5]\n",
    "\n",
    "    content = '---\\n' + 'title: ' + title + '\\n' + 'layout: page\\n' + 'category: LinAlg1\\n' + '---\\n' + content\n",
    "    #print(content)\n",
    "\n",
    "    with open(filename, 'w') as file:\n",
    "        file.write(content)"
   ]
  },
  {
   "cell_type": "code",
   "execution_count": 6,
   "metadata": {},
   "outputs": [],
   "source": [
    "convertHtml('19-3.html')"
   ]
  },
  {
   "cell_type": "code",
   "execution_count": null,
   "metadata": {},
   "outputs": [],
   "source": []
  }
 ],
 "metadata": {
  "kernelspec": {
   "display_name": "Python 3",
   "language": "python",
   "name": "python3"
  },
  "language_info": {
   "codemirror_mode": {
    "name": "ipython",
    "version": 3
   },
   "file_extension": ".py",
   "mimetype": "text/x-python",
   "name": "python",
   "nbconvert_exporter": "python",
   "pygments_lexer": "ipython3",
   "version": "3.6.5"
  }
 },
 "nbformat": 4,
 "nbformat_minor": 2
}
